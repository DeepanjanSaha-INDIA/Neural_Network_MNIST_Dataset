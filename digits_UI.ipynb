{
 "cells": [
  {
   "cell_type": "markdown",
   "metadata": {},
   "source": [
    "# Importing Modules"
   ]
  },
  {
   "cell_type": "code",
   "execution_count": 1,
   "metadata": {
    "collapsed": true
   },
   "outputs": [],
   "source": [
    "from tkinter import Tk, Label, Button, Canvas, Frame, StringVar\n",
    "from tkinter import TOP, BOTTOM, LEFT, RIGHT, BOTH\n",
    "import time\n",
    "from PIL import ImageGrab\n",
    "\n",
    "from tensorflow.keras.models import load_model\n",
    "\n",
    "import matplotlib.pyplot as plt\n",
    "import cv2\n",
    "import numpy as np\n",
    "\n",
    "%matplotlib inline"
   ]
  },
  {
   "cell_type": "markdown",
   "metadata": {},
   "source": [
    "# Loading Trained CNN Model"
   ]
  },
  {
   "cell_type": "code",
   "execution_count": 2,
   "metadata": {
    "collapsed": true
   },
   "outputs": [],
   "source": [
    "model = load_model(\"digits_trained_CNN.h5\")"
   ]
  },
  {
   "cell_type": "code",
   "execution_count": 3,
   "metadata": {
    "scrolled": false
   },
   "outputs": [
    {
     "name": "stdout",
     "output_type": "stream",
     "text": [
      "Model: \"sequential\"\n",
      "_________________________________________________________________\n",
      "Layer (type)                 Output Shape              Param #   \n",
      "=================================================================\n",
      "conv2d (Conv2D)              (None, 28, 28, 32)        320       \n",
      "_________________________________________________________________\n",
      "conv2d_1 (Conv2D)            (None, 28, 28, 32)        9248      \n",
      "_________________________________________________________________\n",
      "max_pooling2d (MaxPooling2D) (None, 14, 14, 32)        0         \n",
      "_________________________________________________________________\n",
      "conv2d_2 (Conv2D)            (None, 14, 14, 64)        18496     \n",
      "_________________________________________________________________\n",
      "conv2d_3 (Conv2D)            (None, 14, 14, 64)        36928     \n",
      "_________________________________________________________________\n",
      "max_pooling2d_1 (MaxPooling2 (None, 7, 7, 64)          0         \n",
      "_________________________________________________________________\n",
      "flatten (Flatten)            (None, 3136)              0         \n",
      "_________________________________________________________________\n",
      "dense (Dense)                (None, 128)               401536    \n",
      "_________________________________________________________________\n",
      "dense_1 (Dense)              (None, 10)                1290      \n",
      "=================================================================\n",
      "Total params: 467,818\n",
      "Trainable params: 467,818\n",
      "Non-trainable params: 0\n",
      "_________________________________________________________________\n"
     ]
    }
   ],
   "source": [
    "model.summary()"
   ]
  },
  {
   "cell_type": "markdown",
   "metadata": {},
   "source": [
    "# UI using Tkinter"
   ]
  },
  {
   "cell_type": "code",
   "execution_count": 12,
   "metadata": {
    "scrolled": false
   },
   "outputs": [
    {
     "name": "stdout",
     "output_type": "stream",
     "text": [
      "Toggled to: True\n",
      "Toggled to: False\n",
      "Saving Image\n",
      "Loading image\n",
      "Preprocessing\n",
      "(28, 28, 1) float64 1.0 0.0\n",
      "Prediction\n",
      "[[3.3591706e-03 2.0313693e-02 1.4013581e-05 2.1740301e-04 4.0625720e-04\n",
      "  2.4919091e-03 2.5001691e-05 9.7052819e-01 2.9188683e-05 2.6151745e-03]]\n",
      "Clearing!\n",
      "Toggled to: True\n",
      "Toggled to: False\n",
      "Saving Image\n",
      "Loading image\n",
      "Preprocessing\n",
      "(28, 28, 1) float64 1.0 0.0\n",
      "Prediction\n",
      "[[1.2994979e-03 6.0781866e-04 3.9871964e-05 2.3284843e-02 3.3051805e-03\n",
      "  8.1956905e-01 1.1731150e-02 8.0867946e-02 2.1828562e-03 5.7111807e-02]]\n",
      "Closing!\n"
     ]
    }
   ],
   "source": [
    "class DigitsGUI:\n",
    "    def __init__(self, master):\n",
    "        self.master = master\n",
    "        \n",
    "        self.header_frame = Frame(master)\n",
    "        self.header_frame.pack(side = TOP)\n",
    "        \n",
    "        self.canvas_frame = Frame(master)\n",
    "        self.canvas_frame.pack(side = TOP)\n",
    "        \n",
    "        self.bottom_frame = Frame(master)\n",
    "        self.bottom_frame.pack(side = TOP)\n",
    "        \n",
    "        # Toggles when user clicks \"Enter\"\n",
    "        self.should_draw = False\n",
    "        self.default_result = \"\"\"\n",
    "        Result is:\n",
    "        0  : {:2.2f}%\n",
    "        1  : {:2.2f}%\n",
    "        2  : {:2.2f}%\n",
    "        3  : {:2.2f}%\n",
    "        4  : {:2.2f}%\n",
    "        5  : {:2.2f}%\n",
    "        6  : {:2.2f}%\n",
    "        7  : {:2.2f}%\n",
    "        8  : {:2.2f}%\n",
    "        9  : {:2.2f}%\n",
    "        \"\"\"\n",
    "        self.answer = StringVar()\n",
    "        self.answer.set(self.default_result.format(0,0,0,0,0,0,0,0,0,0))\n",
    "        \n",
    "        # Coordinate lists to draw\n",
    "        self.coords = []\n",
    "        \n",
    "        master.title(\"Digits classifier UI test\")\n",
    "        \n",
    "        # Event bindings\n",
    "        master.bind('<Motion>', self.motion)\n",
    "        master.bind('<Key>', self.check_enter_key)\n",
    "  \n",
    "        # Header label\n",
    "        self.label = Label(self.header_frame, text=\"Digits UI\\nPress Enter to start\\nThen draw\\nPress Enter to stop\")\n",
    "        self.label.pack(side = TOP)\n",
    "        \n",
    "        # Defining Canvas\n",
    "        self.C = Canvas(self.canvas_frame, bg=\"white\", height=280, width=280)\n",
    "        self.C.pack(side = LEFT)\n",
    "        \n",
    "        # Result UI Display\n",
    "        self.summary = Label(self.canvas_frame, textvariable = self.answer)\n",
    "        self.summary.pack(side = RIGHT)\n",
    "\n",
    "        # Clear the canvas button\n",
    "        self.clear_button = Button(self.bottom_frame, text=\"Clear\", command=self.clear)\n",
    "        self.clear_button.pack(side = LEFT, expand = True, fill = BOTH)\n",
    "        \n",
    "        # Digit Classifier Result button\n",
    "        self.result_button = Button(self.bottom_frame, text=\"Result\", command=self.result)\n",
    "        self.result_button.pack(side = LEFT, expand = True, fill = BOTH)\n",
    "        \n",
    "        # Close button\n",
    "        self.close_button = Button(self.bottom_frame, text=\"Close\", command=self.close)\n",
    "        self.close_button.pack(side = LEFT, expand = True, fill = BOTH)\n",
    "\n",
    "    # Toggles when user press enter key in keyboard\n",
    "    def check_enter_key(self, event):\n",
    "        if event.keycode == 13: # 13 is key code for \"Enter\"\n",
    "            self.should_draw ^= True\n",
    "            print(\"Toggled to: {}\".format(self.should_draw))\n",
    "            self.coords = []\n",
    "    \n",
    "    # Cleaning the canvas function\n",
    "    def clear(self):\n",
    "        print(\"Clearing!\")\n",
    "        self.C.delete(\"all\")\n",
    "        self.coords = []\n",
    "        self.answer.set(self.default_result.format(0,0,0,0,0,0,0,0,0,0))\n",
    "        \n",
    "    # Classifier result function\n",
    "    def result(self):\n",
    "        print(\"Saving Image\")\n",
    "        self.getter()\n",
    "        \n",
    "        print(\"Loading image\")\n",
    "        img = cv2.imread(\"canvas_image.jpg\")\n",
    "        \n",
    "        print(\"Preprocessing\")\n",
    "        gray = cv2.cvtColor(img, cv2.COLOR_BGR2GRAY)\n",
    "        res = cv2.resize(gray, (28,28))\n",
    "        res = res.astype(np.float64)\n",
    "        res = res/255.0\n",
    "        res = res.reshape((28,28,1))\n",
    "        print(res.shape, res.dtype, res.max(), res.min())\n",
    "        \n",
    "        print(\"Prediction\")\n",
    "        prediction = model.predict(np.array([res]))\n",
    "        print(prediction)\n",
    "        self.answer.set(self.default_result.format(*prediction[0]))\n",
    "        \n",
    "    # Closing the GUI function\n",
    "    def close(self):\n",
    "        print(\"Closing!\")\n",
    "        self.master.destroy()\n",
    "    \n",
    "    # Saving the canvas as image on \"Result\" button click\n",
    "    def getter(self):\n",
    "        x=self.master.winfo_rootx() + self.C.winfo_x()\n",
    "        y=self.master.winfo_rooty() + self.C.winfo_y()\n",
    "        x1=x+self.C.winfo_width()\n",
    "        y1=y+self.C.winfo_height()\n",
    "        ImageGrab.grab().crop((x,y,x1,y1)).save(\"canvas_image.jpg\")\n",
    "        \n",
    "    # Draws lines on canvas\n",
    "    def motion(self, event):\n",
    "        if self.should_draw == False:\n",
    "            return\n",
    "        time.sleep(0.25)\n",
    "        x, y = event.x, event.y\n",
    "        if self.coords == []:\n",
    "            self.coords.extend([x,y, x,y])\n",
    "        else:\n",
    "            self.coords.extend([x,y])\n",
    "        line = self.C.create_line(self.coords,fill='black', width=25)\n",
    "        y = self.coords.pop()\n",
    "        x = self.coords.pop()\n",
    "        self.coords = [x,y]\n",
    "        return\n",
    "        \n",
    "\n",
    "root = Tk()\n",
    "my_gui = DigitsGUI(root)\n",
    "root.mainloop()"
   ]
  },
  {
   "cell_type": "code",
   "execution_count": null,
   "metadata": {
    "collapsed": true
   },
   "outputs": [],
   "source": []
  }
 ],
 "metadata": {
  "kernelspec": {
   "display_name": "Python 3",
   "language": "python",
   "name": "python3"
  },
  "language_info": {
   "codemirror_mode": {
    "name": "ipython",
    "version": 3
   },
   "file_extension": ".py",
   "mimetype": "text/x-python",
   "name": "python",
   "nbconvert_exporter": "python",
   "pygments_lexer": "ipython3",
   "version": "3.6.1"
  }
 },
 "nbformat": 4,
 "nbformat_minor": 2
}

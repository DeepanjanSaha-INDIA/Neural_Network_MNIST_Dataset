{
  "nbformat": 4,
  "nbformat_minor": 0,
  "metadata": {
    "colab": {
      "name": "Digits_classifier_ANN_TF.ipynb",
      "provenance": [],
      "collapsed_sections": [],
      "toc_visible": true,
      "authorship_tag": "ABX9TyPFSZlhfhZx2ruZqLsc5aGw",
      "include_colab_link": true
    },
    "kernelspec": {
      "name": "python3",
      "display_name": "Python 3"
    }
  },
  "cells": [
    {
      "cell_type": "markdown",
      "metadata": {
        "id": "view-in-github",
        "colab_type": "text"
      },
      "source": [
        "<a href=\"https://colab.research.google.com/github/DeepanjanSaha-INDIA/Neural_Network_MNIST_Dataset/blob/master/Digits_classifier_ANN_TF.ipynb\" target=\"_parent\"><img src=\"https://colab.research.google.com/assets/colab-badge.svg\" alt=\"Open In Colab\"/></a>"
      ]
    },
    {
      "cell_type": "markdown",
      "metadata": {
        "id": "bRpbeXhqPkhS",
        "colab_type": "text"
      },
      "source": [
        "# Importing Dependencies"
      ]
    },
    {
      "cell_type": "code",
      "metadata": {
        "id": "fHEyBVjRyPxY",
        "colab_type": "code",
        "colab": {
          "base_uri": "https://localhost:8080/",
          "height": 34
        },
        "outputId": "2d88f7c5-c532-435a-b450-8834013b4d7a"
      },
      "source": [
        "import numpy as np\n",
        "import matplotlib.pyplot as plt\n",
        "\n",
        "import tensorflow as tf\n",
        "from tensorflow.keras.datasets import mnist\n",
        "\n",
        "%matplotlib inline\n",
        "\n",
        "print(tf.__version__)"
      ],
      "execution_count": 21,
      "outputs": [
        {
          "output_type": "stream",
          "text": [
            "2.2.0-rc2\n"
          ],
          "name": "stdout"
        }
      ]
    },
    {
      "cell_type": "markdown",
      "metadata": {
        "id": "TxS8ckf2PqhC",
        "colab_type": "text"
      },
      "source": [
        "# Loading Dataset"
      ]
    },
    {
      "cell_type": "code",
      "metadata": {
        "id": "mxXDotUhCpUT",
        "colab_type": "code",
        "outputId": "8173603a-7c31-4d12-9ada-b767a3bac8fa",
        "colab": {
          "base_uri": "https://localhost:8080/",
          "height": 34
        }
      },
      "source": [
        "(x_train, y_train), (x_test, y_test) = mnist.load_data()\n",
        "print(x_train.shape, y_train.shape)"
      ],
      "execution_count": 22,
      "outputs": [
        {
          "output_type": "stream",
          "text": [
            "(60000, 28, 28) (60000,)\n"
          ],
          "name": "stdout"
        }
      ]
    },
    {
      "cell_type": "markdown",
      "metadata": {
        "id": "bs-mvO5WPt0v",
        "colab_type": "text"
      },
      "source": [
        "# Displaying a training set image"
      ]
    },
    {
      "cell_type": "code",
      "metadata": {
        "id": "RaUHz1DjhQhc",
        "colab_type": "code",
        "outputId": "2fc0e2e9-a562-41e2-a62b-c1fd2601932c",
        "colab": {
          "base_uri": "https://localhost:8080/",
          "height": 299
        }
      },
      "source": [
        "print(y_train[0])\n",
        "plt.imshow(x_train[0])"
      ],
      "execution_count": 23,
      "outputs": [
        {
          "output_type": "stream",
          "text": [
            "5\n"
          ],
          "name": "stdout"
        },
        {
          "output_type": "execute_result",
          "data": {
            "text/plain": [
              "<matplotlib.image.AxesImage at 0x7f9c75b4f7f0>"
            ]
          },
          "metadata": {
            "tags": []
          },
          "execution_count": 23
        },
        {
          "output_type": "display_data",
          "data": {
            "image/png": "[encoded data removed]",
            "text/plain": [
              "<Figure size 432x288 with 1 Axes>"
            ]
          },
          "metadata": {
            "tags": [],
            "needs_background": "light"
          }
        }
      ]
    },
    {
      "cell_type": "markdown",
      "metadata": {
        "id": "O_6fQQawP3Gx",
        "colab_type": "text"
      },
      "source": [
        "# Dataset Preprocessing"
      ]
    },
    {
      "cell_type": "markdown",
      "metadata": {
        "id": "iaL1_ha7QKqX",
        "colab_type": "text"
      },
      "source": [
        "## Reshaping the dataset"
      ]
    },
    {
      "cell_type": "code",
      "metadata": {
        "id": "Oyhk4eFchZYB",
        "colab_type": "code",
        "colab": {}
      },
      "source": [
        "x_train = x_train.reshape((-1, 784))\n",
        "x_test = x_test.reshape((-1, 784))"
      ],
      "execution_count": 0,
      "outputs": []
    },
    {
      "cell_type": "markdown",
      "metadata": {
        "id": "kiUov5JGQPUi",
        "colab_type": "text"
      },
      "source": [
        "## Normalisation of Dataset"
      ]
    },
    {
      "cell_type": "code",
      "metadata": {
        "id": "mOuFvuYPisbA",
        "colab_type": "code",
        "colab": {}
      },
      "source": [
        "x_train = x_train/255\n",
        "x_test = x_test/255"
      ],
      "execution_count": 0,
      "outputs": []
    },
    {
      "cell_type": "markdown",
      "metadata": {
        "id": "4raFcED5QVzS",
        "colab_type": "text"
      },
      "source": [
        "# Building Artificial Neural Network"
      ]
    },
    {
      "cell_type": "markdown",
      "metadata": {
        "id": "fhIoVtu6QVqW",
        "colab_type": "text"
      },
      "source": [
        "## Defining model"
      ]
    },
    {
      "cell_type": "code",
      "metadata": {
        "id": "OLup4z4zitku",
        "colab_type": "code",
        "colab": {}
      },
      "source": [
        "model = tf.keras.models.Sequential()"
      ],
      "execution_count": 0,
      "outputs": []
    },
    {
      "cell_type": "markdown",
      "metadata": {
        "id": "iZ5u_IPBQfZk",
        "colab_type": "text"
      },
      "source": [
        "## Adding layers"
      ]
    },
    {
      "cell_type": "code",
      "metadata": {
        "id": "wNjsqb0jjSjZ",
        "colab_type": "code",
        "colab": {}
      },
      "source": [
        "model.add(tf.keras.layers.Dense(units= 128, activation= tf.keras.activations.relu, input_shape = (784,)))\n",
        "model.add(tf.keras.layers.Dropout(0.2))\n",
        "model.add(tf.keras.layers.Dense(units= 10, activation= tf.keras.activations.softmax))"
      ],
      "execution_count": 0,
      "outputs": []
    },
    {
      "cell_type": "markdown",
      "metadata": {
        "id": "i1yIbM5kQjd8",
        "colab_type": "text"
      },
      "source": [
        "## Compiling model"
      ]
    },
    {
      "cell_type": "code",
      "metadata": {
        "id": "xvnedZwVkEnO",
        "colab_type": "code",
        "colab": {}
      },
      "source": [
        "model.compile(optimizer= \"adam\", loss= 'sparse_categorical_crossentropy', metrics=['sparse_categorical_accuracy'])"
      ],
      "execution_count": 0,
      "outputs": []
    },
    {
      "cell_type": "code",
      "metadata": {
        "id": "eFuMEo6lkPK3",
        "colab_type": "code",
        "outputId": "e8b0185f-c8e7-4d4d-ccec-48c8d7806332",
        "colab": {
          "base_uri": "https://localhost:8080/",
          "height": 255
        }
      },
      "source": [
        "model.summary()"
      ],
      "execution_count": 29,
      "outputs": [
        {
          "output_type": "stream",
          "text": [
            "Model: \"sequential_1\"\n",
            "_________________________________________________________________\n",
            "Layer (type)                 Output Shape              Param #   \n",
            "=================================================================\n",
            "dense_2 (Dense)              (None, 128)               100480    \n",
            "_________________________________________________________________\n",
            "dropout_1 (Dropout)          (None, 128)               0         \n",
            "_________________________________________________________________\n",
            "dense_3 (Dense)              (None, 10)                1290      \n",
            "=================================================================\n",
            "Total params: 101,770\n",
            "Trainable params: 101,770\n",
            "Non-trainable params: 0\n",
            "_________________________________________________________________\n"
          ],
          "name": "stdout"
        }
      ]
    },
    {
      "cell_type": "markdown",
      "metadata": {
        "id": "w8e8pxyEQusQ",
        "colab_type": "text"
      },
      "source": [
        "# Training model"
      ]
    },
    {
      "cell_type": "code",
      "metadata": {
        "id": "o19c-kAckVuX",
        "colab_type": "code",
        "outputId": "d2a98207-a62b-4900-cc4d-58fadb4ed3e7",
        "colab": {
          "base_uri": "https://localhost:8080/",
          "height": 204
        }
      },
      "source": [
        "model.fit(x = x_train, y = y_train, epochs= 5)"
      ],
      "execution_count": 30,
      "outputs": [
        {
          "output_type": "stream",
          "text": [
            "Epoch 1/5\n",
            "1875/1875 [==============================] - 3s 2ms/step - loss: 0.2937 - sparse_categorical_accuracy: 0.9152\n",
            "Epoch 2/5\n",
            "1875/1875 [==============================] - 3s 2ms/step - loss: 0.1442 - sparse_categorical_accuracy: 0.9578\n",
            "Epoch 3/5\n",
            "1875/1875 [==============================] - 3s 2ms/step - loss: 0.1080 - sparse_categorical_accuracy: 0.9682\n",
            "Epoch 4/5\n",
            "1875/1875 [==============================] - 3s 2ms/step - loss: 0.0873 - sparse_categorical_accuracy: 0.9728\n",
            "Epoch 5/5\n",
            "1875/1875 [==============================] - 3s 2ms/step - loss: 0.0737 - sparse_categorical_accuracy: 0.9756\n"
          ],
          "name": "stdout"
        },
        {
          "output_type": "execute_result",
          "data": {
            "text/plain": [
              "<tensorflow.python.keras.callbacks.History at 0x7f9c75a4c518>"
            ]
          },
          "metadata": {
            "tags": []
          },
          "execution_count": 30
        }
      ]
    },
    {
      "cell_type": "markdown",
      "metadata": {
        "id": "g4wk-8uzSWH_",
        "colab_type": "text"
      },
      "source": [
        "# Manual testing"
      ]
    },
    {
      "cell_type": "code",
      "metadata": {
        "id": "yitdoyurSZTc",
        "colab_type": "code",
        "colab": {
          "base_uri": "https://localhost:8080/",
          "height": 1000
        },
        "outputId": "1d37b7df-41f8-4c71-f74a-68bcd3f6d50e"
      },
      "source": [
        "plt.hist(x_train[0], bins = 256)"
      ],
      "execution_count": 39,
      "outputs": [
        {
          "output_type": "execute_result",
          "data": {
            "text/plain": [
              "(array([618.,   2.,   3.,   1.,   0.,   0.,   0.,   0.,   0.,   1.,   0.,\n",
              "          3.,   0.,   0.,   1.,   0.,   2.,   0.,   5.,   0.,   0.,   0.,\n",
              "          0.,   1.,   1.,   1.,   1.,   1.,   0.,   0.,   1.,   0.,   0.,\n",
              "          0.,   0.,   1.,   1.,   0.,   0.,   2.,   0.,   0.,   0.,   1.,\n",
              "          0.,   1.,   1.,   0.,   0.,   1.,   0.,   0.,   0.,   0.,   0.,\n",
              "          1.,   1.,   0.,   0.,   0.,   0.,   0.,   0.,   0.,   2.,   0.,\n",
              "          1.,   0.,   0.,   0.,   1.,   0.,   0.,   0.,   0.,   0.,   0.,\n",
              "          0.,   1.,   0.,   2.,   2.,   2.,   0.,   0.,   0.,   0.,   0.,\n",
              "          0.,   0.,   1.,   0.,   0.,   2.,   1.,   0.,   0.,   0.,   0.,\n",
              "          0.,   0.,   0.,   0.,   0.,   0.,   0.,   0.,   1.,   1.,   0.,\n",
              "          0.,   0.,   0.,   0.,   1.,   0.,   0.,   0.,   0.,   1.,   0.,\n",
              "          0.,   0.,   0.,   0.,   0.,   1.,   1.,   0.,   0.,   1.,   0.,\n",
              "          1.,   1.,   0.,   1.,   2.,   0.,   0.,   1.,   0.,   0.,   0.,\n",
              "          0.,   0.,   0.,   0.,   0.,   1.,   0.,   1.,   0.,   0.,   0.,\n",
              "          3.,   0.,   1.,   0.,   0.,   0.,   1.,   0.,   0.,   0.,   0.,\n",
              "          0.,   1.,   0.,   0.,   0.,   1.,   1.,   2.,   0.,   0.,   1.,\n",
              "          0.,   0.,   0.,   0.,   0.,   0.,   2.,   1.,   0.,   0.,   1.,\n",
              "          1.,   0.,   0.,   2.,   0.,   0.,   0.,   0.,   2.,   0.,   0.,\n",
              "          2.,   0.,   0.,   1.,   0.,   0.,   0.,   1.,   0.,   1.,   0.,\n",
              "          0.,   0.,   0.,   1.,   1.,   0.,   0.,   0.,   0.,   0.,   2.,\n",
              "          0.,   1.,   0.,   0.,   0.,   2.,   1.,   0.,   0.,   1.,   0.,\n",
              "          0.,   0.,   0.,   0.,   0.,   0.,   0.,   1.,   0.,   1.,   2.,\n",
              "          1.,   0.,   1.,   0.,   0.,   2.,   0.,   2.,   1.,   1.,   1.,\n",
              "         54.,   0.,   1.]),\n",
              " array([0.        , 0.00390625, 0.0078125 , 0.01171875, 0.015625  ,\n",
              "        0.01953125, 0.0234375 , 0.02734375, 0.03125   , 0.03515625,\n",
              "        0.0390625 , 0.04296875, 0.046875  , 0.05078125, 0.0546875 ,\n",
              "        0.05859375, 0.0625    , 0.06640625, 0.0703125 , 0.07421875,\n",
              "        0.078125  , 0.08203125, 0.0859375 , 0.08984375, 0.09375   ,\n",
              "        0.09765625, 0.1015625 , 0.10546875, 0.109375  , 0.11328125,\n",
              "        0.1171875 , 0.12109375, 0.125     , 0.12890625, 0.1328125 ,\n",
              "        0.13671875, 0.140625  , 0.14453125, 0.1484375 , 0.15234375,\n",
              "        0.15625   , 0.16015625, 0.1640625 , 0.16796875, 0.171875  ,\n",
              "        0.17578125, 0.1796875 , 0.18359375, 0.1875    , 0.19140625,\n",
              "        0.1953125 , 0.19921875, 0.203125  , 0.20703125, 0.2109375 ,\n",
              "        0.21484375, 0.21875   , 0.22265625, 0.2265625 , 0.23046875,\n",
              "        0.234375  , 0.23828125, 0.2421875 , 0.24609375, 0.25      ,\n",
              "        0.25390625, 0.2578125 , 0.26171875, 0.265625  , 0.26953125,\n",
              "        0.2734375 , 0.27734375, 0.28125   , 0.28515625, 0.2890625 ,\n",
              "        0.29296875, 0.296875  , 0.30078125, 0.3046875 , 0.30859375,\n",
              "        0.3125    , 0.31640625, 0.3203125 , 0.32421875, 0.328125  ,\n",
              "        0.33203125, 0.3359375 , 0.33984375, 0.34375   , 0.34765625,\n",
              "        0.3515625 , 0.35546875, 0.359375  , 0.36328125, 0.3671875 ,\n",
              "        0.37109375, 0.375     , 0.37890625, 0.3828125 , 0.38671875,\n",
              "        0.390625  , 0.39453125, 0.3984375 , 0.40234375, 0.40625   ,\n",
              "        0.41015625, 0.4140625 , 0.41796875, 0.421875  , 0.42578125,\n",
              "        0.4296875 , 0.43359375, 0.4375    , 0.44140625, 0.4453125 ,\n",
              "        0.44921875, 0.453125  , 0.45703125, 0.4609375 , 0.46484375,\n",
              "        0.46875   , 0.47265625, 0.4765625 , 0.48046875, 0.484375  ,\n",
              "        0.48828125, 0.4921875 , 0.49609375, 0.5       , 0.50390625,\n",
              "        0.5078125 , 0.51171875, 0.515625  , 0.51953125, 0.5234375 ,\n",
              "        0.52734375, 0.53125   , 0.53515625, 0.5390625 , 0.54296875,\n",
              "        0.546875  , 0.55078125, 0.5546875 , 0.55859375, 0.5625    ,\n",
              "        0.56640625, 0.5703125 , 0.57421875, 0.578125  , 0.58203125,\n",
              "        0.5859375 , 0.58984375, 0.59375   , 0.59765625, 0.6015625 ,\n",
              "        0.60546875, 0.609375  , 0.61328125, 0.6171875 , 0.62109375,\n",
              "        0.625     , 0.62890625, 0.6328125 , 0.63671875, 0.640625  ,\n",
              "        0.64453125, 0.6484375 , 0.65234375, 0.65625   , 0.66015625,\n",
              "        0.6640625 , 0.66796875, 0.671875  , 0.67578125, 0.6796875 ,\n",
              "        0.68359375, 0.6875    , 0.69140625, 0.6953125 , 0.69921875,\n",
              "        0.703125  , 0.70703125, 0.7109375 , 0.71484375, 0.71875   ,\n",
              "        0.72265625, 0.7265625 , 0.73046875, 0.734375  , 0.73828125,\n",
              "        0.7421875 , 0.74609375, 0.75      , 0.75390625, 0.7578125 ,\n",
              "        0.76171875, 0.765625  , 0.76953125, 0.7734375 , 0.77734375,\n",
              "        0.78125   , 0.78515625, 0.7890625 , 0.79296875, 0.796875  ,\n",
              "        0.80078125, 0.8046875 , 0.80859375, 0.8125    , 0.81640625,\n",
              "        0.8203125 , 0.82421875, 0.828125  , 0.83203125, 0.8359375 ,\n",
              "        0.83984375, 0.84375   , 0.84765625, 0.8515625 , 0.85546875,\n",
              "        0.859375  , 0.86328125, 0.8671875 , 0.87109375, 0.875     ,\n",
              "        0.87890625, 0.8828125 , 0.88671875, 0.890625  , 0.89453125,\n",
              "        0.8984375 , 0.90234375, 0.90625   , 0.91015625, 0.9140625 ,\n",
              "        0.91796875, 0.921875  , 0.92578125, 0.9296875 , 0.93359375,\n",
              "        0.9375    , 0.94140625, 0.9453125 , 0.94921875, 0.953125  ,\n",
              "        0.95703125, 0.9609375 , 0.96484375, 0.96875   , 0.97265625,\n",
              "        0.9765625 , 0.98046875, 0.984375  , 0.98828125, 0.9921875 ,\n",
              "        0.99609375, 1.        ]),\n",
              " <a list of 256 Patch objects>)"
            ]
          },
          "metadata": {
            "tags": []
          },
          "execution_count": 39
        },
        {
          "output_type": "display_data",
          "data": {
            "image/png": "[encoded data removed]",
            "text/plain": [
              "<Figure size 432x288 with 1 Axes>"
            ]
          },
          "metadata": {
            "tags": [],
            "needs_background": "light"
          }
        }
      ]
    },
    {
      "cell_type": "code",
      "metadata": {
        "id": "NeiufFifSZP8",
        "colab_type": "code",
        "colab": {
          "base_uri": "https://localhost:8080/",
          "height": 34
        },
        "outputId": "14affcc7-cd27-4bad-c649-34331f7feec2"
      },
      "source": [
        "arr = np.zeros((x_train[0].shape))\n",
        "arr[x_train[0] > 0.8] = 1\n",
        "print(np.unique(arr, return_counts= True))"
      ],
      "execution_count": 40,
      "outputs": [
        {
          "output_type": "stream",
          "text": [
            "(array([0., 1.]), array([705,  79]))\n"
          ],
          "name": "stdout"
        }
      ]
    },
    {
      "cell_type": "code",
      "metadata": {
        "id": "gt6CDTkESZLX",
        "colab_type": "code",
        "colab": {
          "base_uri": "https://localhost:8080/",
          "height": 282
        },
        "outputId": "1d9a9e19-d8d5-4e5e-e6e7-a6b03afdaf7a"
      },
      "source": [
        "plt.imshow(arr.reshape((28,28)))"
      ],
      "execution_count": 42,
      "outputs": [
        {
          "output_type": "execute_result",
          "data": {
            "text/plain": [
              "<matplotlib.image.AxesImage at 0x7f9c6f1c7048>"
            ]
          },
          "metadata": {
            "tags": []
          },
          "execution_count": 42
        },
        {
          "output_type": "display_data",
          "data": {
            "image/png": "[encoded data removed]",
            "text/plain": [
              "<Figure size 432x288 with 1 Axes>"
            ]
          },
          "metadata": {
            "tags": [],
            "needs_background": "light"
          }
        }
      ]
    },
    {
      "cell_type": "code",
      "metadata": {
        "id": "7F7YKh1BTeuv",
        "colab_type": "code",
        "colab": {
          "base_uri": "https://localhost:8080/",
          "height": 68
        },
        "outputId": "43c7e079-c2ca-4023-80ec-2aff8db9d61e"
      },
      "source": [
        "model.predict(x= np.array([arr]))"
      ],
      "execution_count": 44,
      "outputs": [
        {
          "output_type": "execute_result",
          "data": {
            "text/plain": [
              "array([[2.64242828e-09, 2.40520137e-07, 1.53099554e-05, 3.78187180e-01,\n",
              "        1.06221055e-16, 6.21796012e-01, 1.53871655e-11, 2.10084707e-07,\n",
              "        1.94731092e-10, 9.83856353e-07]], dtype=float32)"
            ]
          },
          "metadata": {
            "tags": []
          },
          "execution_count": 44
        }
      ]
    },
    {
      "cell_type": "markdown",
      "metadata": {
        "id": "Iz2aQDxdQz7z",
        "colab_type": "text"
      },
      "source": [
        "# Model evaluation and prediction"
      ]
    },
    {
      "cell_type": "code",
      "metadata": {
        "id": "L42foc2hkdFF",
        "colab_type": "code",
        "outputId": "af464306-016e-4e51-a2ec-736e2ea5672d",
        "colab": {
          "base_uri": "https://localhost:8080/",
          "height": 34
        }
      },
      "source": [
        "loss, accuracy = model.evaluate(x = x_test, y = y_test)"
      ],
      "execution_count": 31,
      "outputs": [
        {
          "output_type": "stream",
          "text": [
            "313/313 [==============================] - 0s 938us/step - loss: 0.0764 - sparse_categorical_accuracy: 0.9766\n"
          ],
          "name": "stdout"
        }
      ]
    },
    {
      "cell_type": "code",
      "metadata": {
        "id": "ZhQNhPsDkrXX",
        "colab_type": "code",
        "outputId": "b395b674-0897-4b2c-dbd1-2fc1babdc26c",
        "colab": {
          "base_uri": "https://localhost:8080/",
          "height": 34
        }
      },
      "source": [
        "print(\"Accuracy: {}\".format(accuracy))"
      ],
      "execution_count": 32,
      "outputs": [
        {
          "output_type": "stream",
          "text": [
            "Accuracy: 0.9765999913215637\n"
          ],
          "name": "stdout"
        }
      ]
    },
    {
      "cell_type": "markdown",
      "metadata": {
        "id": "ra4plciFRBKt",
        "colab_type": "text"
      },
      "source": [
        "# Saving the model"
      ]
    },
    {
      "cell_type": "code",
      "metadata": {
        "id": "D7ILydqJk1zm",
        "colab_type": "code",
        "colab": {}
      },
      "source": [
        "model.save(\"digits_trained_ANN.h5\")"
      ],
      "execution_count": 0,
      "outputs": []
    },
    {
      "cell_type": "code",
      "metadata": {
        "id": "7uiakCUpT6uX",
        "colab_type": "code",
        "colab": {}
      },
      "source": [
        ""
      ],
      "execution_count": 0,
      "outputs": []
    }
  ]
}